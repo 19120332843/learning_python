{
 "nbformat": 4,
 "nbformat_minor": 2,
 "metadata": {
  "language_info": {
   "name": "python",
   "codemirror_mode": {
    "name": "ipython",
    "version": 3
   }
  },
  "orig_nbformat": 2,
  "file_extension": ".py",
  "mimetype": "text/x-python",
  "name": "python",
  "npconvert_exporter": "python",
  "pygments_lexer": "ipython3",
  "version": 3
 },
 "cells": [
  {
   "cell_type": "code",
   "execution_count": 14,
   "metadata": {},
   "outputs": [
    {
     "name": "stdout",
     "output_type": "stream",
     "text": "2.0373\n[[ 1.0169  1.0204  0.9989 ...  0.4454  0.4448  0.4442]\n [ 0.9798  0.976   1.0207 ... 14.6199 14.6784 14.7248]\n [ 1.0185  1.0223  0.9883 ...  0.3463  0.3456  0.3458]\n ...\n [ 0.9822  0.9826  1.0131 ...  2.0567  2.0611  2.063 ]\n [ 0.9689  0.972   0.9966 ...  2.3969  2.3981  2.3976]\n [ 1.0017  0.9993  0.987  ...  0.9447  0.9444  0.9448]]\n"
    }
   ],
   "source": [
    "import os\n",
    "import pandas as pd\n",
    "import numpy as np\n",
    "\n",
    "\n",
    "def listdir(path, list_name):  # 传入存储的list\n",
    "    for file in os.listdir(path):\n",
    "        file_path = os.path.join(path, file)\n",
    "        if os.path.isdir(file_path):\n",
    "            listdir(file_path, list_name)\n",
    "        else:\n",
    "            list_name.append(file_path)\n",
    "\n",
    "file_paths = []\n",
    "listdir(\"F:\\\\gitworkspace\\\\python\\\\e-nose-cnn\\\\nos-data\\\\3times7class\\\\woshu\\\\3\", file_paths)\n",
    "# print(file_paths)\n",
    "\n",
    "data = range(120)\n",
    "data = pd.DataFrame(data)\n",
    "data = data.values\n",
    "data = list(map(list,zip(*data)))\n",
    "data = pd.DataFrame(data)\n",
    "data.to_csv(os.path.join(\"F:\\\\gitworkspace\\\\python\\\\e-nose-cnn\", \"testnos2npy.csv\"), encoding='utf_8_sig', index=False, header=0)\n",
    "\n",
    "for i in file_paths:\n",
    "    try:\n",
    "        data = pd.read_csv(i, sep='\\t', dtype=np.object,skiprows=52, header=None, engine='python')\n",
    "        data = data.loc[0:119]\n",
    "        data = data[range(10)]\n",
    "        data = pd.DataFrame(data)\n",
    "        data = data.values\n",
    "        data = list(map(list,zip(*data)))\n",
    "        data = pd.DataFrame(data)\n",
    "        data.to_csv(os.path.join(\"F:\\\\gitworkspace\\\\python\\\\e-nose-cnn\", \"testnos2npy.csv\"), encoding='utf_8_sig', index=False, header=0,mode = 'a+')#utf_8_sig\n",
    "    except Exception as e:\n",
    "        print(i)\n",
    "\n",
    "df = pd.read_csv( \"F:\\\\gitworkspace\\\\python\\\\e-nose-cnn\\\\testnos2npy.csv\")\n",
    "np.save('F:\\\\gitworkspace\\\\python\\\\e-nose-cnn\\\\testnos2npy.npy', df)\n",
    "df = np.load('F:\\\\gitworkspace\\\\python\\\\e-nose-cnn\\\\testnos2npy.npy')\n",
    "for i in range(6):\n",
    "    \n",
    "\n",
    "\n",
    "print(df)"
   ]
  },
  {
   "cell_type": "code",
   "execution_count": null,
   "metadata": {},
   "outputs": [],
   "source": []
  },
  {
   "cell_type": "code",
   "execution_count": null,
   "metadata": {},
   "outputs": [],
   "source": []
  },
  {
   "cell_type": "code",
   "execution_count": null,
   "metadata": {},
   "outputs": [],
   "source": []
  },
  {
   "cell_type": "code",
   "execution_count": null,
   "metadata": {},
   "outputs": [],
   "source": []
  },
  {
   "cell_type": "code",
   "execution_count": null,
   "metadata": {},
   "outputs": [],
   "source": []
  },
  {
   "cell_type": "code",
   "execution_count": null,
   "metadata": {},
   "outputs": [],
   "source": []
  },
  {
   "cell_type": "code",
   "execution_count": null,
   "metadata": {},
   "outputs": [],
   "source": []
  },
  {
   "cell_type": "code",
   "execution_count": null,
   "metadata": {},
   "outputs": [],
   "source": []
  },
  {
   "cell_type": "code",
   "execution_count": null,
   "metadata": {},
   "outputs": [],
   "source": []
  },
  {
   "cell_type": "code",
   "execution_count": null,
   "metadata": {},
   "outputs": [],
   "source": []
  },
  {
   "cell_type": "code",
   "execution_count": null,
   "metadata": {},
   "outputs": [],
   "source": []
  },
  {
   "cell_type": "code",
   "execution_count": null,
   "metadata": {},
   "outputs": [],
   "source": []
  },
  {
   "cell_type": "code",
   "execution_count": null,
   "metadata": {},
   "outputs": [],
   "source": []
  },
  {
   "cell_type": "code",
   "execution_count": null,
   "metadata": {},
   "outputs": [],
   "source": []
  },
  {
   "cell_type": "code",
   "execution_count": null,
   "metadata": {},
   "outputs": [],
   "source": []
  },
  {
   "cell_type": "code",
   "execution_count": null,
   "metadata": {},
   "outputs": [],
   "source": []
  }
 ]
}