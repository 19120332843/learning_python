{
 "nbformat": 4,
 "nbformat_minor": 2,
 "metadata": {
  "language_info": {
   "name": "python",
   "codemirror_mode": {
    "name": "ipython",
    "version": 3
   }
  },
  "orig_nbformat": 2,
  "file_extension": ".py",
  "mimetype": "text/x-python",
  "name": "python",
  "npconvert_exporter": "python",
  "pygments_lexer": "ipython3",
  "version": 3
 },
 "cells": [
  {
   "cell_type": "code",
   "execution_count": 1,
   "metadata": {},
   "outputs": [
    {
     "name": "stdout",
     "output_type": "stream",
     "text": "cuda:0\nNet(\n  (rnn): LSTM(120, 64, num_layers=2, batch_first=True)\n  (out): Linear(in_features=64, out_features=7, bias=True)\n)\n---------------------------------------------------------------------------\nEpoch:  0 | train loss: nan | test accuracy: 0.14\ntotal_train:525, accuracy:0.14285714285714285, sum:75\n--------------------------------------------------------------------------\nEpoch:  1 | train loss: nan | test accuracy: 0.14\ntotal_train:525, accuracy:0.14285714285714285, sum:75\n--------------------------------------------------------------------------\nEpoch:  2 | train loss: nan | test accuracy: 0.14\ntotal_train:525, accuracy:0.14285714285714285, sum:75\n--------------------------------------------------------------------------\nEpoch:  3 | train loss: nan | test accuracy: 0.14\ntotal_train:525, accuracy:0.14285714285714285, sum:75\n--------------------------------------------------------------------------\nEpoch:  4 | train loss: nan | test accuracy: 0.14\ntotal_train:525, accuracy:0.14285714285714285, sum:75\n--------------------------------------------------------------------------\nEpoch:  5 | train loss: nan | test accuracy: 0.14\ntotal_train:525, accuracy:0.14285714285714285, sum:75\n--------------------------------------------------------------------------\nEpoch:  6 | train loss: nan | test accuracy: 0.14\ntotal_train:525, accuracy:0.14285714285714285, sum:75\n--------------------------------------------------------------------------\nEpoch:  7 | train loss: nan | test accuracy: 0.14\ntotal_train:525, accuracy:0.14285714285714285, sum:75\n--------------------------------------------------------------------------\nEpoch:  8 | train loss: nan | test accuracy: 0.14\ntotal_train:525, accuracy:0.14285714285714285, sum:75\n--------------------------------------------------------------------------\nEpoch:  9 | train loss: nan | test accuracy: 0.14\ntotal_train:525, accuracy:0.14285714285714285, sum:75\n--------------------------------------------------------------------------\nEpoch:  10 | train loss: nan | test accuracy: 0.14\ntotal_train:525, accuracy:0.14285714285714285, sum:75\n--------------------------------------------------------------------------\nEpoch:  11 | train loss: nan | test accuracy: 0.14\ntotal_train:525, accuracy:0.14285714285714285, sum:75\n--------------------------------------------------------------------------\nEpoch:  12 | train loss: nan | test accuracy: 0.14\ntotal_train:525, accuracy:0.14285714285714285, sum:75\n--------------------------------------------------------------------------\nEpoch:  13 | train loss: nan | test accuracy: 0.14\ntotal_train:525, accuracy:0.14285714285714285, sum:75\n--------------------------------------------------------------------------\nEpoch:  14 | train loss: nan | test accuracy: 0.14\ntotal_train:525, accuracy:0.14285714285714285, sum:75\n--------------------------------------------------------------------------\nEpoch:  15 | train loss: nan | test accuracy: 0.14\ntotal_train:525, accuracy:0.14285714285714285, sum:75\n--------------------------------------------------------------------------\nEpoch:  16 | train loss: nan | test accuracy: 0.14\ntotal_train:525, accuracy:0.14285714285714285, sum:75\n--------------------------------------------------------------------------\nEpoch:  17 | train loss: nan | test accuracy: 0.14\ntotal_train:525, accuracy:0.14285714285714285, sum:75\n--------------------------------------------------------------------------\nEpoch:  18 | train loss: nan | test accuracy: 0.14\ntotal_train:525, accuracy:0.14285714285714285, sum:75\n--------------------------------------------------------------------------\nEpoch:  19 | train loss: nan | test accuracy: 0.14\ntotal_train:525, accuracy:0.14285714285714285, sum:75\n--------------------------------------------------------------------------\nEpoch:  20 | train loss: nan | test accuracy: 0.14\ntotal_train:525, accuracy:0.14285714285714285, sum:75\n--------------------------------------------------------------------------\nEpoch:  21 | train loss: nan | test accuracy: 0.14\ntotal_train:525, accuracy:0.14285714285714285, sum:75\n--------------------------------------------------------------------------\nEpoch:  22 | train loss: nan | test accuracy: 0.14\ntotal_train:525, accuracy:0.14285714285714285, sum:75\n--------------------------------------------------------------------------\nEpoch:  23 | train loss: nan | test accuracy: 0.14\ntotal_train:525, accuracy:0.14285714285714285, sum:75\n--------------------------------------------------------------------------\nEpoch:  24 | train loss: nan | test accuracy: 0.14\ntotal_train:525, accuracy:0.14285714285714285, sum:75\n--------------------------------------------------------------------------\nEpoch:  25 | train loss: nan | test accuracy: 0.14\ntotal_train:525, accuracy:0.14285714285714285, sum:75\n--------------------------------------------------------------------------\nEpoch:  26 | train loss: nan | test accuracy: 0.14\ntotal_train:525, accuracy:0.14285714285714285, sum:75\n--------------------------------------------------------------------------\nEpoch:  27 | train loss: nan | test accuracy: 0.14\ntotal_train:525, accuracy:0.14285714285714285, sum:75\n--------------------------------------------------------------------------\nEpoch:  28 | train loss: nan | test accuracy: 0.14\ntotal_train:525, accuracy:0.14285714285714285, sum:75\n--------------------------------------------------------------------------\nEpoch:  29 | train loss: nan | test accuracy: 0.14\ntotal_train:525, accuracy:0.14285714285714285, sum:75\n--------------------------------------------------------------------------\nEpoch:  30 | train loss: nan | test accuracy: 0.14\ntotal_train:525, accuracy:0.14285714285714285, sum:75\n--------------------------------------------------------------------------\nEpoch:  31 | train loss: nan | test accuracy: 0.14\ntotal_train:525, accuracy:0.14285714285714285, sum:75\n--------------------------------------------------------------------------\nEpoch:  32 | train loss: nan | test accuracy: 0.14\ntotal_train:525, accuracy:0.14285714285714285, sum:75\n--------------------------------------------------------------------------\nEpoch:  33 | train loss: nan | test accuracy: 0.14\ntotal_train:525, accuracy:0.14285714285714285, sum:75\n--------------------------------------------------------------------------\nEpoch:  34 | train loss: nan | test accuracy: 0.14\ntotal_train:525, accuracy:0.14285714285714285, sum:75\n--------------------------------------------------------------------------\nEpoch:  35 | train loss: nan | test accuracy: 0.14\ntotal_train:525, accuracy:0.14285714285714285, sum:75\n--------------------------------------------------------------------------\nEpoch:  36 | train loss: nan | test accuracy: 0.14\ntotal_train:525, accuracy:0.14285714285714285, sum:75\n--------------------------------------------------------------------------\nEpoch:  37 | train loss: nan | test accuracy: 0.14\ntotal_train:525, accuracy:0.14285714285714285, sum:75\n--------------------------------------------------------------------------\nEpoch:  38 | train loss: nan | test accuracy: 0.14\ntotal_train:525, accuracy:0.14285714285714285, sum:75\n--------------------------------------------------------------------------\nEpoch:  39 | train loss: nan | test accuracy: 0.14\ntotal_train:525, accuracy:0.14285714285714285, sum:75\n--------------------------------------------------------------------------\nEpoch:  40 | train loss: nan | test accuracy: 0.14\ntotal_train:525, accuracy:0.14285714285714285, sum:75\n--------------------------------------------------------------------------\nEpoch:  41 | train loss: nan | test accuracy: 0.14\ntotal_train:525, accuracy:0.14285714285714285, sum:75\n--------------------------------------------------------------------------\nEpoch:  42 | train loss: nan | test accuracy: 0.14\ntotal_train:525, accuracy:0.14285714285714285, sum:75\n--------------------------------------------------------------------------\nEpoch:  43 | train loss: nan | test accuracy: 0.14\ntotal_train:525, accuracy:0.14285714285714285, sum:75\n--------------------------------------------------------------------------\nEpoch:  44 | train loss: nan | test accuracy: 0.14\ntotal_train:525, accuracy:0.14285714285714285, sum:75\n--------------------------------------------------------------------------\nEpoch:  45 | train loss: nan | test accuracy: 0.14\ntotal_train:525, accuracy:0.14285714285714285, sum:75\n--------------------------------------------------------------------------\nEpoch:  46 | train loss: nan | test accuracy: 0.14\ntotal_train:525, accuracy:0.14285714285714285, sum:75\n--------------------------------------------------------------------------\nEpoch:  47 | train loss: nan | test accuracy: 0.14\ntotal_train:525, accuracy:0.14285714285714285, sum:75\n--------------------------------------------------------------------------\nEpoch:  48 | train loss: nan | test accuracy: 0.14\ntotal_train:525, accuracy:0.14285714285714285, sum:75\n--------------------------------------------------------------------------\nEpoch:  49 | train loss: nan | test accuracy: 0.14\ntotal_train:525, accuracy:0.14285714285714285, sum:75\n--------------------------------------------------------------------------\nEpoch:  50 | train loss: nan | test accuracy: 0.14\ntotal_train:525, accuracy:0.14285714285714285, sum:75\n--------------------------------------------------------------------------\nEpoch:  51 | train loss: nan | test accuracy: 0.14\ntotal_train:525, accuracy:0.14285714285714285, sum:75\n--------------------------------------------------------------------------\nEpoch:  52 | train loss: nan | test accuracy: 0.14\ntotal_train:525, accuracy:0.14285714285714285, sum:75\n--------------------------------------------------------------------------\nEpoch:  53 | train loss: nan | test accuracy: 0.14\ntotal_train:525, accuracy:0.14285714285714285, sum:75\n--------------------------------------------------------------------------\nEpoch:  54 | train loss: nan | test accuracy: 0.14\ntotal_train:525, accuracy:0.14285714285714285, sum:75\n--------------------------------------------------------------------------\nEpoch:  55 | train loss: nan | test accuracy: 0.14\ntotal_train:525, accuracy:0.14285714285714285, sum:75\n--------------------------------------------------------------------------\nEpoch:  56 | train loss: nan | test accuracy: 0.14\ntotal_train:525, accuracy:0.14285714285714285, sum:75\n--------------------------------------------------------------------------\nEpoch:  57 | train loss: nan | test accuracy: 0.14\ntotal_train:525, accuracy:0.14285714285714285, sum:75\n--------------------------------------------------------------------------\nEpoch:  58 | train loss: nan | test accuracy: 0.14\ntotal_train:525, accuracy:0.14285714285714285, sum:75\n--------------------------------------------------------------------------\nEpoch:  59 | train loss: nan | test accuracy: 0.14\ntotal_train:525, accuracy:0.14285714285714285, sum:75\n--------------------------------------------------------------------------\nEpoch:  60 | train loss: nan | test accuracy: 0.14\ntotal_train:525, accuracy:0.14285714285714285, sum:75\n--------------------------------------------------------------------------\nEpoch:  61 | train loss: nan | test accuracy: 0.14\ntotal_train:525, accuracy:0.14285714285714285, sum:75\n--------------------------------------------------------------------------\nEpoch:  62 | train loss: nan | test accuracy: 0.14\ntotal_train:525, accuracy:0.14285714285714285, sum:75\n--------------------------------------------------------------------------\nEpoch:  63 | train loss: nan | test accuracy: 0.14\ntotal_train:525, accuracy:0.14285714285714285, sum:75\n--------------------------------------------------------------------------\nEpoch:  64 | train loss: nan | test accuracy: 0.14\ntotal_train:525, accuracy:0.14285714285714285, sum:75\n--------------------------------------------------------------------------\nEpoch:  65 | train loss: nan | test accuracy: 0.14\ntotal_train:525, accuracy:0.14285714285714285, sum:75\n--------------------------------------------------------------------------\nEpoch:  66 | train loss: nan | test accuracy: 0.14\ntotal_train:525, accuracy:0.14285714285714285, sum:75\n--------------------------------------------------------------------------\nEpoch:  67 | train loss: nan | test accuracy: 0.14\ntotal_train:525, accuracy:0.14285714285714285, sum:75\n--------------------------------------------------------------------------\nEpoch:  68 | train loss: nan | test accuracy: 0.14\ntotal_train:525, accuracy:0.14285714285714285, sum:75\n--------------------------------------------------------------------------\nEpoch:  69 | train loss: nan | test accuracy: 0.14\ntotal_train:525, accuracy:0.14285714285714285, sum:75\n--------------------------------------------------------------------------\nEpoch:  70 | train loss: nan | test accuracy: 0.14\ntotal_train:525, accuracy:0.14285714285714285, sum:75\n--------------------------------------------------------------------------\nEpoch:  71 | train loss: nan | test accuracy: 0.14\ntotal_train:525, accuracy:0.14285714285714285, sum:75\n--------------------------------------------------------------------------\nEpoch:  72 | train loss: nan | test accuracy: 0.14\ntotal_train:525, accuracy:0.14285714285714285, sum:75\n--------------------------------------------------------------------------\nEpoch:  73 | train loss: nan | test accuracy: 0.14\ntotal_train:525, accuracy:0.14285714285714285, sum:75\n--------------------------------------------------------------------------\n"
    }
   ],
   "source": [
    "import pandas as pd\n",
    "import torch\n",
    "import numpy as np\n",
    "import torch.nn as nn\n",
    "import torch.nn.functional as F\n",
    "import torch.optim as optim\n",
    "import torch.nn.init as init\n",
    "from torch.autograd import Variable\n",
    "import os \n",
    "\n",
    "\n",
    "def Normlize(Z):\n",
    "    Zmax, Zmin = Z.max(axis=1), Z.min(axis=1)\n",
    "    Zmean = Z.mean(axis=1)\n",
    "    #按列排序\n",
    "    Zmax, Zmin = Zmax.reshape(-1, 1), Zmin.reshape(-1, 1)\n",
    "    Zmean = Zmean.reshape(-1, 1)\n",
    "    Z = (Z - Zmean) / (Zmax - Zmin)\n",
    "    return Z\n",
    "\n",
    "\n",
    "def Data_Reading(Normalization=True):\n",
    "    train_x = np.load('F:\\\\gitworkspace\\\\python\\\\e-nose-cnn\\\\nos-data\\\\3times7class\\\\3\\\\trainset2.npy')\n",
    "    train_y = np.load('F:\\\\gitworkspace\\\\python\\\\e-nose-cnn\\\\nos-data\\\\3times7class\\\\trainlabel2.npy')\n",
    "    test_x = np.load('F:\\\\gitworkspace\\\\python\\\\e-nose-cnn\\\\nos-data\\\\3times7class\\\\3\\\\testset2.npy')\n",
    "    test_y = np.load('F:\\\\gitworkspace\\\\python\\\\e-nose-cnn\\\\nos-data\\\\3times7class\\\\testlabel2.npy')\n",
    "\n",
    "    # Normalization\n",
    "    train_x = Normlize(train_x)\n",
    "    test_x = Normlize(test_x)\n",
    "\n",
    "    # xlsx to tensor\n",
    "    if Normalization:\n",
    "        train_x = torch.from_numpy(train_x).type(torch.cuda.FloatTensor)\n",
    "        test_x = torch.from_numpy(test_x).type(torch.cuda.FloatTensor)\n",
    "        train_y = torch.from_numpy(train_y).type(torch.int64)\n",
    "        test_y = torch.from_numpy(test_y).type(torch.int64)\n",
    "\n",
    "    else:\n",
    "        train_x = torch.from_numpy(train_x).type(torch.FloatTensor)\n",
    "        test_x = torch.from_numpy(test_x).type(torch.FloatTensor)\n",
    "        train_y = torch.from_numpy(train_y).type(torch.int64)\n",
    "        test_y = torch.from_numpy(test_y).type(torch.int64)\n",
    "    # reshape\n",
    "    train_x = train_x.view(525, 10, 120)\n",
    "    test_x = test_x.view(175, 10, 120)\n",
    "    \n",
    "    permutation = np.random.permutation(train_y.shape[0])\n",
    "    train_x = train_x[permutation, :, :]\n",
    "    print('---------------------------------------------------------------------------')\n",
    "    train_y = train_y[permutation]\n",
    "\n",
    "    return train_x, test_x, train_y, test_y\n",
    "\n",
    "\n",
    "class Net(nn.Module):\n",
    "    def __init__(self):\n",
    "        super(Net, self).__init__()\n",
    "        self.rnn = nn.LSTM(input_size=120, hidden_size=64, num_layers=2, batch_first=True)\n",
    "        self.out = nn.Linear(64, 7)\n",
    "        \n",
    "    \n",
    "    def forward(self, x):\n",
    "        r_out, (h_n, h_c) = self.rnn(x, None)\n",
    "        out = self.out(r_out[:, -1, :])\n",
    "        return out\n",
    "\n",
    "if __name__ == '__main__':\n",
    "    device = torch.device(\"cuda:0\" if torch.cuda.is_available() else \"cpu\")#cuda:0\n",
    "\n",
    "    print(device)\n",
    "\n",
    "    cnn = Net()\n",
    "    print(cnn)\n",
    "    cnn.to(device)\n",
    "\n",
    "    lrr = 0.005\n",
    "    #sgd -> stochastic gradient descent\n",
    "    optimizer = torch.optim.Adam(cnn.parameters(), lr=lrr)#\n",
    "    loss_func = nn.CrossEntropyLoss()\n",
    "\n",
    "    train_x, test_x, train_y, test_y = Data_Reading(Normalization=1)\n",
    "    train_y = train_y.squeeze()\n",
    "    test_y = test_y.squeeze()\n",
    "    train_x = train_x.to(device)\n",
    "    test_x = test_x.to(device)\n",
    "    train_y = train_y.to(device)\n",
    "    test_y = test_y.to(device)\n",
    "\n",
    "    te_x = Variable(test_x)\n",
    "    te_y = Variable(test_y)\n",
    "\n",
    "    batch_size = 25\n",
    "    sum = 0\n",
    "    sum_epo = 0\n",
    "    for epoch in range(200):\n",
    "        for i in range(0,(int)(len(train_x)/batch_size)):        \n",
    "            t_x = Variable(train_x[i*batch_size:i*batch_size+batch_size].view(-1, 10, 120))         \n",
    "            t_y = Variable(train_y[i*batch_size:i*batch_size+batch_size])\n",
    "\n",
    "            output = cnn(t_x)                              \n",
    "            loss = loss_func(output, t_y)                   \n",
    "            optimizer.zero_grad()                  \n",
    "            loss.backward()                               \n",
    "            optimizer.step()                       \n",
    "\n",
    "        test_output = cnn(test_x)               \n",
    "        pred_y = torch.max(test_output, 1)[1]\n",
    "        for j in range(test_y.size(0)):\n",
    "            if pred_y[j] == test_y[j]:\n",
    "                sum += 1\n",
    "        accuracy = sum /test_y.size(0)\n",
    "        sum = 0\n",
    "\n",
    "        print('Epoch: ', epoch, '| train loss: %.4f' % loss.item(), '| test accuracy: %.2f' % accuracy)\n",
    "\n",
    "        out = cnn(train_x)\n",
    "        predicted_train = torch.max(out.data, 1)[1]\n",
    "        total_train = train_y.size(0)\n",
    "        for j in range(train_y.size(0)):\n",
    "            if predicted_train[j] == train_y[j]:\n",
    "                sum_epo += 1\n",
    "        \n",
    "        print('total_train:{}, accuracy:{}, sum:{}'.format(total_train, sum_epo / total_train, sum_epo))\n",
    "        running_loss = 0\n",
    "        sum_epo = 0\n",
    "\n",
    "        if (sum / total_train > 0.85) :\n",
    "            optimizer = torch.optim.Adam(cnn.parameters(), lr=lrr/8)\n",
    "        elif (sum / total_train > 0.95) :\n",
    "            optimizer = torch.optim.Adam(cnn.parameters(), lr=lrr/8/8)\n",
    "        print('--------------------------------------------------------------------------')\n",
    "    print('===========================================================================')\n",
    ""
   ]
  },
  {
   "cell_type": "code",
   "execution_count": null,
   "metadata": {},
   "outputs": [],
   "source": []
  },
  {
   "cell_type": "code",
   "execution_count": null,
   "metadata": {},
   "outputs": [],
   "source": []
  },
  {
   "cell_type": "code",
   "execution_count": null,
   "metadata": {},
   "outputs": [],
   "source": []
  },
  {
   "cell_type": "code",
   "execution_count": null,
   "metadata": {},
   "outputs": [],
   "source": []
  },
  {
   "cell_type": "code",
   "execution_count": null,
   "metadata": {},
   "outputs": [],
   "source": []
  },
  {
   "cell_type": "code",
   "execution_count": null,
   "metadata": {},
   "outputs": [],
   "source": []
  },
  {
   "cell_type": "code",
   "execution_count": null,
   "metadata": {},
   "outputs": [],
   "source": []
  },
  {
   "cell_type": "code",
   "execution_count": null,
   "metadata": {},
   "outputs": [],
   "source": []
  },
  {
   "cell_type": "code",
   "execution_count": null,
   "metadata": {},
   "outputs": [],
   "source": []
  },
  {
   "cell_type": "code",
   "execution_count": null,
   "metadata": {},
   "outputs": [],
   "source": []
  },
  {
   "cell_type": "code",
   "execution_count": null,
   "metadata": {},
   "outputs": [],
   "source": []
  },
  {
   "cell_type": "code",
   "execution_count": null,
   "metadata": {},
   "outputs": [],
   "source": []
  },
  {
   "cell_type": "code",
   "execution_count": null,
   "metadata": {},
   "outputs": [],
   "source": []
  },
  {
   "cell_type": "code",
   "execution_count": null,
   "metadata": {},
   "outputs": [],
   "source": []
  },
  {
   "cell_type": "code",
   "execution_count": null,
   "metadata": {},
   "outputs": [],
   "source": []
  },
  {
   "cell_type": "code",
   "execution_count": null,
   "metadata": {},
   "outputs": [],
   "source": []
  },
  {
   "cell_type": "code",
   "execution_count": null,
   "metadata": {},
   "outputs": [],
   "source": []
  },
  {
   "cell_type": "code",
   "execution_count": null,
   "metadata": {},
   "outputs": [],
   "source": []
  },
  {
   "cell_type": "code",
   "execution_count": null,
   "metadata": {},
   "outputs": [],
   "source": []
  },
  {
   "cell_type": "code",
   "execution_count": null,
   "metadata": {},
   "outputs": [],
   "source": []
  },
  {
   "cell_type": "code",
   "execution_count": null,
   "metadata": {},
   "outputs": [],
   "source": []
  },
  {
   "cell_type": "code",
   "execution_count": null,
   "metadata": {},
   "outputs": [],
   "source": []
  },
  {
   "cell_type": "code",
   "execution_count": null,
   "metadata": {},
   "outputs": [],
   "source": []
  },
  {
   "cell_type": "code",
   "execution_count": null,
   "metadata": {},
   "outputs": [],
   "source": []
  },
  {
   "cell_type": "code",
   "execution_count": null,
   "metadata": {},
   "outputs": [],
   "source": []
  },
  {
   "cell_type": "code",
   "execution_count": null,
   "metadata": {},
   "outputs": [],
   "source": []
  },
  {
   "cell_type": "code",
   "execution_count": null,
   "metadata": {},
   "outputs": [],
   "source": []
  },
  {
   "cell_type": "code",
   "execution_count": null,
   "metadata": {},
   "outputs": [],
   "source": []
  },
  {
   "cell_type": "code",
   "execution_count": null,
   "metadata": {},
   "outputs": [],
   "source": []
  },
  {
   "cell_type": "code",
   "execution_count": null,
   "metadata": {},
   "outputs": [],
   "source": []
  },
  {
   "cell_type": "code",
   "execution_count": null,
   "metadata": {},
   "outputs": [],
   "source": []
  },
  {
   "cell_type": "code",
   "execution_count": null,
   "metadata": {},
   "outputs": [],
   "source": []
  },
  {
   "cell_type": "code",
   "execution_count": null,
   "metadata": {},
   "outputs": [],
   "source": []
  },
  {
   "cell_type": "code",
   "execution_count": null,
   "metadata": {},
   "outputs": [],
   "source": []
  },
  {
   "cell_type": "code",
   "execution_count": 2,
   "metadata": {},
   "outputs": [
    {
     "name": "stdout",
     "output_type": "stream",
     "text": "123\n"
    }
   ],
   "source": []
  },
  {
   "cell_type": "code",
   "execution_count": null,
   "metadata": {},
   "outputs": [],
   "source": []
  }
 ]
}