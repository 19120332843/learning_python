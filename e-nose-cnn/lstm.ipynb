{
 "nbformat": 4,
 "nbformat_minor": 2,
 "metadata": {
  "language_info": {
   "name": "python",
   "codemirror_mode": {
    "name": "ipython",
    "version": 3
   }
  },
  "orig_nbformat": 2,
  "file_extension": ".py",
  "mimetype": "text/x-python",
  "name": "python",
  "npconvert_exporter": "python",
  "pygments_lexer": "ipython3",
  "version": 3
 },
 "cells": [
  {
   "cell_type": "code",
   "execution_count": 16,
   "metadata": {},
   "outputs": [
    {
     "name": "stdout",
     "output_type": "stream",
     "text": "uracy: 0.68\ntotal_train:490, accuracy:0.8816326530612245, sum:432\n--------------------------------------------------------------------------\nEpoch:  92 | train loss: 0.4494 | test accuracy: 0.62\ntotal_train:490, accuracy:0.8591836734693877, sum:421\n--------------------------------------------------------------------------\nEpoch:  93 | train loss: 0.3421 | test accuracy: 0.70\ntotal_train:490, accuracy:0.9122448979591836, sum:447\n--------------------------------------------------------------------------\nEpoch:  94 | train loss: 0.6171 | test accuracy: 0.67\ntotal_train:490, accuracy:0.8428571428571429, sum:413\n--------------------------------------------------------------------------\nEpoch:  95 | train loss: 0.6106 | test accuracy: 0.68\ntotal_train:490, accuracy:0.8346938775510204, sum:409\n--------------------------------------------------------------------------\nEpoch:  96 | train loss: 0.4835 | test accuracy: 0.65\ntotal_train:490, accuracy:0.8387755102040816, sum:411\n--------------------------------------------------------------------------\nEpoch:  97 | train loss: 0.3194 | test accuracy: 0.66\ntotal_train:490, accuracy:0.8857142857142857, sum:434\n--------------------------------------------------------------------------\nEpoch:  98 | train loss: 0.2571 | test accuracy: 0.78\ntotal_train:490, accuracy:0.9346938775510204, sum:458\n--------------------------------------------------------------------------\nEpoch:  99 | train loss: 0.3881 | test accuracy: 0.79\ntotal_train:490, accuracy:0.926530612244898, sum:454\n--------------------------------------------------------------------------\nEpoch:  100 | train loss: 0.2530 | test accuracy: 0.78\ntotal_train:490, accuracy:0.9142857142857143, sum:448\n--------------------------------------------------------------------------\nEpoch:  101 | train loss: 0.1244 | test accuracy: 0.76\ntotal_train:490, accuracy:0.9408163265306122, sum:461\n--------------------------------------------------------------------------\nEpoch:  102 | train loss: 0.1918 | test accuracy: 0.75\ntotal_train:490, accuracy:0.9244897959183673, sum:453\n--------------------------------------------------------------------------\nEpoch:  103 | train loss: 0.1227 | test accuracy: 0.77\ntotal_train:490, accuracy:0.9591836734693877, sum:470\n--------------------------------------------------------------------------\nEpoch:  104 | train loss: 0.1087 | test accuracy: 0.78\ntotal_train:490, accuracy:0.9734693877551021, sum:477\n--------------------------------------------------------------------------\nEpoch:  105 | train loss: 0.2416 | test accuracy: 0.77\ntotal_train:490, accuracy:0.9387755102040817, sum:460\n--------------------------------------------------------------------------\nEpoch:  106 | train loss: 0.1973 | test accuracy: 0.79\ntotal_train:490, accuracy:0.9673469387755103, sum:474\n--------------------------------------------------------------------------\nEpoch:  107 | train loss: 0.2057 | test accuracy: 0.80\ntotal_train:490, accuracy:0.9653061224489796, sum:473\n--------------------------------------------------------------------------\nEpoch:  108 | train loss: 0.2146 | test accuracy: 0.72\ntotal_train:490, accuracy:0.9428571428571428, sum:462\n--------------------------------------------------------------------------\nEpoch:  109 | train loss: 0.2288 | test accuracy: 0.76\ntotal_train:490, accuracy:0.9285714285714286, sum:455\n--------------------------------------------------------------------------\nEpoch:  110 | train loss: 0.3113 | test accuracy: 0.79\ntotal_train:490, accuracy:0.9448979591836735, sum:463\n--------------------------------------------------------------------------\nEpoch:  111 | train loss: 0.1624 | test accuracy: 0.84\ntotal_train:490, accuracy:0.9714285714285714, sum:476\n--------------------------------------------------------------------------\nEpoch:  112 | train loss: 0.1526 | test accuracy: 0.78\ntotal_train:490, accuracy:0.9653061224489796, sum:473\n--------------------------------------------------------------------------\nEpoch:  113 | train loss: 0.2313 | test accuracy: 0.77\ntotal_train:490, accuracy:0.9408163265306122, sum:461\n--------------------------------------------------------------------------\nEpoch:  114 | train loss: 0.1842 | test accuracy: 0.70\ntotal_train:490, accuracy:0.9122448979591836, sum:447\n--------------------------------------------------------------------------\nEpoch:  115 | train loss: 0.1043 | test accuracy: 0.76\ntotal_train:490, accuracy:0.9591836734693877, sum:470\n--------------------------------------------------------------------------\nEpoch:  116 | train loss: 0.1740 | test accuracy: 0.79\ntotal_train:490, accuracy:0.9653061224489796, sum:473\n--------------------------------------------------------------------------\nEpoch:  117 | train loss: 0.0863 | test accuracy: 0.81\ntotal_train:490, accuracy:0.9755102040816327, sum:478\n--------------------------------------------------------------------------\nEpoch:  118 | train loss: 0.1476 | test accuracy: 0.81\ntotal_train:490, accuracy:0.9755102040816327, sum:478\n--------------------------------------------------------------------------\nEpoch:  119 | train loss: 0.0802 | test accuracy: 0.80\ntotal_train:490, accuracy:0.9755102040816327, sum:478\n--------------------------------------------------------------------------\nEpoch:  120 | train loss: 0.0804 | test accuracy: 0.82\ntotal_train:490, accuracy:0.9816326530612245, sum:481\n--------------------------------------------------------------------------\nEpoch:  121 | train loss: 0.0772 | test accuracy: 0.80\ntotal_train:490, accuracy:0.963265306122449, sum:472\n--------------------------------------------------------------------------\nEpoch:  122 | train loss: 0.0725 | test accuracy: 0.79\ntotal_train:490, accuracy:0.9734693877551021, sum:477\n--------------------------------------------------------------------------\nEpoch:  123 | train loss: 0.1529 | test accuracy: 0.85\ntotal_train:490, accuracy:0.9857142857142858, sum:483\n--------------------------------------------------------------------------\nEpoch:  124 | train loss: 0.0814 | test accuracy: 0.80\ntotal_train:490, accuracy:0.9653061224489796, sum:473\n--------------------------------------------------------------------------\nEpoch:  125 | train loss: 0.0525 | test accuracy: 0.82\ntotal_train:490, accuracy:0.9897959183673469, sum:485\n--------------------------------------------------------------------------\nEpoch:  126 | train loss: 0.0900 | test accuracy: 0.81\ntotal_train:490, accuracy:0.9755102040816327, sum:478\n--------------------------------------------------------------------------\nEpoch:  127 | train loss: 0.1022 | test accuracy: 0.79\ntotal_train:490, accuracy:0.9755102040816327, sum:478\n--------------------------------------------------------------------------\nEpoch:  128 | train loss: 0.1228 | test accuracy: 0.78\ntotal_train:490, accuracy:0.9224489795918367, sum:452\n--------------------------------------------------------------------------\nEpoch:  129 | train loss: 0.4391 | test accuracy: 0.75\ntotal_train:490, accuracy:0.9285714285714286, sum:455\n--------------------------------------------------------------------------\nEpoch:  130 | train loss: 0.2713 | test accuracy: 0.72\ntotal_train:490, accuracy:0.9469387755102041, sum:464\n--------------------------------------------------------------------------\nEpoch:  131 | train loss: 0.2116 | test accuracy: 0.79\ntotal_train:490, accuracy:0.9551020408163265, sum:468\n--------------------------------------------------------------------------\nEpoch:  132 | train loss: 0.2415 | test accuracy: 0.81\ntotal_train:490, accuracy:0.9816326530612245, sum:481\n--------------------------------------------------------------------------\nEpoch:  133 | train loss: 0.1889 | test accuracy: 0.75\ntotal_train:490, accuracy:0.889795918367347, sum:436\n--------------------------------------------------------------------------\nEpoch:  134 | train loss: 0.3380 | test accuracy: 0.77\ntotal_train:490, accuracy:0.9183673469387755, sum:450\n--------------------------------------------------------------------------\nEpoch:  135 | train loss: 0.4009 | test accuracy: 0.78\ntotal_train:490, accuracy:0.9551020408163265, sum:468\n--------------------------------------------------------------------------\nEpoch:  136 | train loss: 0.3703 | test accuracy: 0.71\ntotal_train:490, accuracy:0.9591836734693877, sum:470\n--------------------------------------------------------------------------\nEpoch:  137 | train loss: 0.3187 | test accuracy: 0.70\ntotal_train:490, accuracy:0.9102040816326531, sum:446\n--------------------------------------------------------------------------\nEpoch:  138 | train loss: 0.1345 | test accuracy: 0.77\ntotal_train:490, accuracy:0.9510204081632653, sum:466\n--------------------------------------------------------------------------\nEpoch:  139 | train loss: 0.1126 | test accuracy: 0.76\ntotal_train:490, accuracy:0.9489795918367347, sum:465\n--------------------------------------------------------------------------\nEpoch:  140 | train loss: 0.0802 | test accuracy: 0.78\ntotal_train:490, accuracy:0.9530612244897959, sum:467\n--------------------------------------------------------------------------\nEpoch:  141 | train loss: 0.0956 | test accuracy: 0.79\ntotal_train:490, accuracy:0.9653061224489796, sum:473\n--------------------------------------------------------------------------\nEpoch:  142 | train loss: 0.0948 | test accuracy: 0.79\ntotal_train:490, accuracy:0.9734693877551021, sum:477\n--------------------------------------------------------------------------\nEpoch:  143 | train loss: 0.1227 | test accuracy: 0.78\ntotal_train:490, accuracy:0.9244897959183673, sum:453\n--------------------------------------------------------------------------\nEpoch:  144 | train loss: 0.0722 | test accuracy: 0.72\ntotal_train:490, accuracy:0.9204081632653062, sum:451\n--------------------------------------------------------------------------\nEpoch:  145 | train loss: 0.1288 | test accuracy: 0.82\ntotal_train:490, accuracy:0.9571428571428572, sum:469\n--------------------------------------------------------------------------\nEpoch:  146 | train loss: 0.1019 | test accuracy: 0.81\ntotal_train:490, accuracy:0.9448979591836735, sum:463\n--------------------------------------------------------------------------\nEpoch:  147 | train loss: 0.1831 | test accuracy: 0.74\ntotal_train:490, accuracy:0.9571428571428572, sum:469\n--------------------------------------------------------------------------\nEpoch:  148 | train loss: 0.1479 | test accuracy: 0.74\ntotal_train:490, accuracy:0.926530612244898, sum:454\n--------------------------------------------------------------------------\nEpoch:  149 | train loss: 0.2241 | test accuracy: 0.75\ntotal_train:490, accuracy:0.9244897959183673, sum:453\n--------------------------------------------------------------------------\nEpoch:  150 | train loss: 0.1211 | test accuracy: 0.73\ntotal_train:490, accuracy:0.9571428571428572, sum:469\n--------------------------------------------------------------------------\nEpoch:  151 | train loss: 0.1385 | test accuracy: 0.84\ntotal_train:490, accuracy:0.9836734693877551, sum:482\n--------------------------------------------------------------------------\nEpoch:  152 | train loss: 0.0923 | test accuracy: 0.83\ntotal_train:490, accuracy:0.9918367346938776, sum:486\n--------------------------------------------------------------------------\nEpoch:  153 | train loss: 0.0650 | test accuracy: 0.77\ntotal_train:490, accuracy:0.9571428571428572, sum:469\n--------------------------------------------------------------------------\nEpoch:  154 | train loss: 0.2354 | test accuracy: 0.79\ntotal_train:490, accuracy:0.9755102040816327, sum:478\n--------------------------------------------------------------------------\nEpoch:  155 | train loss: 0.1090 | test accuracy: 0.77\ntotal_train:490, accuracy:0.9673469387755103, sum:474\n--------------------------------------------------------------------------\nEpoch:  156 | train loss: 0.2436 | test accuracy: 0.81\ntotal_train:490, accuracy:0.9816326530612245, sum:481\n--------------------------------------------------------------------------\nEpoch:  157 | train loss: 0.2870 | test accuracy: 0.77\ntotal_train:490, accuracy:0.9510204081632653, sum:466\n--------------------------------------------------------------------------\nEpoch:  158 | train loss: 0.1147 | test accuracy: 0.79\ntotal_train:490, accuracy:0.9673469387755103, sum:474\n--------------------------------------------------------------------------\nEpoch:  159 | train loss: 0.0553 | test accuracy: 0.81\ntotal_train:490, accuracy:0.9857142857142858, sum:483\n--------------------------------------------------------------------------\nEpoch:  160 | train loss: 0.0680 | test accuracy: 0.84\ntotal_train:490, accuracy:0.9918367346938776, sum:486\n--------------------------------------------------------------------------\nEpoch:  161 | train loss: 0.0693 | test accuracy: 0.82\ntotal_train:490, accuracy:0.9897959183673469, sum:485\n--------------------------------------------------------------------------\nEpoch:  162 | train loss: 0.0345 | test accuracy: 0.78\ntotal_train:490, accuracy:0.9897959183673469, sum:485\n--------------------------------------------------------------------------\nEpoch:  163 | train loss: 0.0532 | test accuracy: 0.79\ntotal_train:490, accuracy:0.9877551020408163, sum:484\n--------------------------------------------------------------------------\nEpoch:  164 | train loss: 0.0149 | test accuracy: 0.79\ntotal_train:490, accuracy:0.9918367346938776, sum:486\n--------------------------------------------------------------------------\nEpoch:  165 | train loss: 0.0207 | test accuracy: 0.80\ntotal_train:490, accuracy:0.9938775510204082, sum:487\n--------------------------------------------------------------------------\nEpoch:  166 | train loss: 0.0727 | test accuracy: 0.81\ntotal_train:490, accuracy:0.9938775510204082, sum:487\n--------------------------------------------------------------------------\nEpoch:  167 | train loss: 0.2593 | test accuracy: 0.75\ntotal_train:490, accuracy:0.9653061224489796, sum:473\n--------------------------------------------------------------------------\nEpoch:  168 | train loss: 0.1002 | test accuracy: 0.70\ntotal_train:490, accuracy:0.9122448979591836, sum:447\n--------------------------------------------------------------------------\nEpoch:  169 | train loss: 0.8490 | test accuracy: 0.55\ntotal_train:490, accuracy:0.8979591836734694, sum:440\n--------------------------------------------------------------------------\nEpoch:  170 | train loss: 0.3431 | test accuracy: 0.71\ntotal_train:490, accuracy:0.963265306122449, sum:472\n--------------------------------------------------------------------------\nEpoch:  171 | train loss: 0.1623 | test accuracy: 0.75\ntotal_train:490, accuracy:0.9755102040816327, sum:478\n--------------------------------------------------------------------------\nEpoch:  172 | train loss: 0.1424 | test accuracy: 0.70\ntotal_train:490, accuracy:0.9510204081632653, sum:466\n--------------------------------------------------------------------------\nEpoch:  173 | train loss: 0.1860 | test accuracy: 0.78\ntotal_train:490, accuracy:0.963265306122449, sum:472\n--------------------------------------------------------------------------\nEpoch:  174 | train loss: 0.0837 | test accuracy: 0.77\ntotal_train:490, accuracy:0.9918367346938776, sum:486\n--------------------------------------------------------------------------\nEpoch:  175 | train loss: 0.0743 | test accuracy: 0.76\ntotal_train:490, accuracy:0.9755102040816327, sum:478\n--------------------------------------------------------------------------\nEpoch:  176 | train loss: 0.0325 | test accuracy: 0.78\ntotal_train:490, accuracy:0.9795918367346939, sum:480\n--------------------------------------------------------------------------\nEpoch:  177 | train loss: 0.1588 | test accuracy: 0.83\ntotal_train:490, accuracy:0.9857142857142858, sum:483\n--------------------------------------------------------------------------\nEpoch:  178 | train loss: 0.0663 | test accuracy: 0.80\ntotal_train:490, accuracy:0.9877551020408163, sum:484\n--------------------------------------------------------------------------\nEpoch:  179 | train loss: 0.0643 | test accuracy: 0.73\ntotal_train:490, accuracy:0.9877551020408163, sum:484\n--------------------------------------------------------------------------\nEpoch:  180 | train loss: 0.0731 | test accuracy: 0.80\ntotal_train:490, accuracy:0.9897959183673469, sum:485\n--------------------------------------------------------------------------\nEpoch:  181 | train loss: 0.0292 | test accuracy: 0.80\ntotal_train:490, accuracy:0.9959183673469387, sum:488\n--------------------------------------------------------------------------\nEpoch:  182 | train loss: 0.0188 | test accuracy: 0.78\ntotal_train:490, accuracy:0.9938775510204082, sum:487\n--------------------------------------------------------------------------\nEpoch:  183 | train loss: 0.0347 | test accuracy: 0.83\ntotal_train:490, accuracy:0.9938775510204082, sum:487\n--------------------------------------------------------------------------\nEpoch:  184 | train loss: 0.0232 | test accuracy: 0.81\ntotal_train:490, accuracy:1.0, sum:490\n--------------------------------------------------------------------------\nEpoch:  185 | train loss: 0.0120 | test accuracy: 0.81\ntotal_train:490, accuracy:0.9979591836734694, sum:489\n--------------------------------------------------------------------------\nEpoch:  186 | train loss: 0.0317 | test accuracy: 0.80\ntotal_train:490, accuracy:0.9918367346938776, sum:486\n--------------------------------------------------------------------------\nEpoch:  187 | train loss: 0.0111 | test accuracy: 0.80\ntotal_train:490, accuracy:0.9959183673469387, sum:488\n--------------------------------------------------------------------------\nEpoch:  188 | train loss: 0.0227 | test accuracy: 0.81\ntotal_train:490, accuracy:1.0, sum:490\n--------------------------------------------------------------------------\nEpoch:  189 | train loss: 0.0139 | test accuracy: 0.81\ntotal_train:490, accuracy:1.0, sum:490\n--------------------------------------------------------------------------\nEpoch:  190 | train loss: 0.0080 | test accuracy: 0.81\ntotal_train:490, accuracy:1.0, sum:490\n--------------------------------------------------------------------------\nEpoch:  191 | train loss: 0.0139 | test accuracy: 0.80\ntotal_train:490, accuracy:1.0, sum:490\n--------------------------------------------------------------------------\nEpoch:  192 | train loss: 0.0157 | test accuracy: 0.81\ntotal_train:490, accuracy:0.9979591836734694, sum:489\n--------------------------------------------------------------------------\nEpoch:  193 | train loss: 0.0089 | test accuracy: 0.80\ntotal_train:490, accuracy:0.9959183673469387, sum:488\n--------------------------------------------------------------------------\nEpoch:  194 | train loss: 0.0411 | test accuracy: 0.78\ntotal_train:490, accuracy:0.9979591836734694, sum:489\n--------------------------------------------------------------------------\nEpoch:  195 | train loss: 0.0210 | test accuracy: 0.78\ntotal_train:490, accuracy:0.9775510204081632, sum:479\n--------------------------------------------------------------------------\nEpoch:  196 | train loss: 0.0183 | test accuracy: 0.80\ntotal_train:490, accuracy:0.9836734693877551, sum:482\n--------------------------------------------------------------------------\nEpoch:  197 | train loss: 0.0812 | test accuracy: 0.81\ntotal_train:490, accuracy:0.9857142857142858, sum:483\n--------------------------------------------------------------------------\nEpoch:  198 | train loss: 0.0439 | test accuracy: 0.75\ntotal_train:490, accuracy:0.9877551020408163, sum:484\n--------------------------------------------------------------------------\nEpoch:  199 | train loss: 0.0457 | test accuracy: 0.70\ntotal_train:490, accuracy:0.9428571428571428, sum:462\n--------------------------------------------------------------------------\n===========================================================================\n"
    }
   ],
   "source": [
    "import pandas as pd\n",
    "import torch\n",
    "import numpy as np\n",
    "import torch.nn as nn\n",
    "import torch.nn.functional as F\n",
    "import torch.optim as optim\n",
    "import torch.nn.init as init\n",
    "from torch.autograd import Variable\n",
    "import os \n",
    "\n",
    "\n",
    "def Normlize(Z):\n",
    "    Zmax, Zmin = Z.max(axis=1), Z.min(axis=1)\n",
    "    Zmean = Z.mean(axis=1)\n",
    "    #按列排序\n",
    "    Zmax, Zmin = Zmax.reshape(-1, 1), Zmin.reshape(-1, 1)\n",
    "    Zmean = Zmean.reshape(-1, 1)\n",
    "    Z = (Z - Zmean) / (Zmax - Zmin)\n",
    "    return Z\n",
    "\n",
    "\n",
    "def Data_Reading(Normalization=True):\n",
    "    train_x = np.load('F:\\\\gitworkspace\\\\python\\\\e-nose-cnn\\\\nos-data\\\\3times7class\\\\trainset.npy')\n",
    "    train_y = np.load('F:\\\\gitworkspace\\\\python\\\\e-nose-cnn\\\\nos-data\\\\3times7class\\\\trainlabel.npy')\n",
    "    test_x = np.load('F:\\\\gitworkspace\\\\python\\\\e-nose-cnn\\\\nos-data\\\\3times7class\\\\testset.npy')\n",
    "    test_y = np.load('F:\\\\gitworkspace\\\\python\\\\e-nose-cnn\\\\nos-data\\\\3times7class\\\\testlabel.npy')\n",
    "\n",
    "    # Normalization\n",
    "    # train_x = Normlize(train_x)\n",
    "    # test_x = Normlize(test_x)\n",
    "\n",
    "    # xlsx to tensor\n",
    "    if Normalization:\n",
    "        train_x = torch.from_numpy(train_x).type(torch.cuda.FloatTensor)\n",
    "        test_x = torch.from_numpy(test_x).type(torch.cuda.FloatTensor)\n",
    "        train_y = torch.from_numpy(train_y).type(torch.int64)\n",
    "        test_y = torch.from_numpy(test_y).type(torch.int64)\n",
    "\n",
    "    else:\n",
    "        train_x = torch.from_numpy(train_x).type(torch.FloatTensor)\n",
    "        test_x = torch.from_numpy(test_x).type(torch.FloatTensor)\n",
    "        train_y = torch.from_numpy(train_y).type(torch.int64)\n",
    "        test_y = torch.from_numpy(test_y).type(torch.int64)\n",
    "    # reshape\n",
    "    train_x = train_x.view(490, 10, 120)\n",
    "    test_x = test_x.view(210, 10, 120)\n",
    "    \n",
    "    permutation = np.random.permutation(train_y.shape[0])\n",
    "    train_x = train_x[permutation, :, :]\n",
    "    print('---------------------------------------------------------------------------')\n",
    "    train_y = train_y[permutation]\n",
    "\n",
    "    return train_x, test_x, train_y, test_y\n",
    "\n",
    "\n",
    "class Net(nn.Module):\n",
    "    def __init__(self):\n",
    "        super(Net, self).__init__()\n",
    "        self.rnn = nn.LSTM(input_size=120, hidden_size=64, num_layers=2, batch_first=True)\n",
    "        self.out = nn.Linear(64, 7)\n",
    "        \n",
    "    \n",
    "    def forward(self, x):\n",
    "        r_out, (h_n, h_c) = self.rnn(x, None)\n",
    "        out = self.out(r_out[:, -1, :])\n",
    "        return out\n",
    "\n",
    "if __name__ == '__main__':\n",
    "    device = torch.device(\"cuda:0\" if torch.cuda.is_available() else \"cpu\")#cuda:0\n",
    "\n",
    "    print(device)\n",
    "\n",
    "    cnn = Net()\n",
    "    print(cnn)\n",
    "    cnn.to(device)\n",
    "\n",
    "    lrr = 0.005\n",
    "    #sgd -> stochastic gradient descent\n",
    "    optimizer = torch.optim.Adam(cnn.parameters(), lr=lrr)#\n",
    "    loss_func = nn.CrossEntropyLoss()\n",
    "\n",
    "    train_x, test_x, train_y, test_y = Data_Reading(Normalization=1)\n",
    "    train_y = train_y.squeeze()\n",
    "    test_y = test_y.squeeze()\n",
    "    train_x = train_x.to(device)\n",
    "    test_x = test_x.to(device)\n",
    "    train_y = train_y.to(device)\n",
    "    test_y = test_y.to(device)\n",
    "\n",
    "    te_x = Variable(test_x)\n",
    "    te_y = Variable(test_y)\n",
    "\n",
    "    batch_size = 49\n",
    "    sum = 0\n",
    "    sum_epo = 0\n",
    "    for epoch in range(200):\n",
    "        for i in range(0,(int)(len(train_x)/batch_size)):        \n",
    "            t_x = Variable(train_x[i*batch_size:i*batch_size+batch_size].view(-1, 10, 120))         \n",
    "            t_y = Variable(train_y[i*batch_size:i*batch_size+batch_size])\n",
    "\n",
    "            output = cnn(t_x)                              \n",
    "            loss = loss_func(output, t_y)                   \n",
    "            optimizer.zero_grad()                  \n",
    "            loss.backward()                               \n",
    "            optimizer.step()                       \n",
    "\n",
    "        test_output = cnn(test_x)               \n",
    "        pred_y = torch.max(test_output, 1)[1]\n",
    "        for j in range(test_y.size(0)):\n",
    "            if pred_y[j] == test_y[j]:\n",
    "                sum += 1\n",
    "        accuracy = sum /test_y.size(0)\n",
    "        sum = 0\n",
    "\n",
    "        print('Epoch: ', epoch, '| train loss: %.4f' % loss.item(), '| test accuracy: %.2f' % accuracy)\n",
    "\n",
    "        out = cnn(train_x)\n",
    "        predicted_train = torch.max(out.data, 1)[1]\n",
    "        total_train = train_y.size(0)\n",
    "        for j in range(train_y.size(0)):\n",
    "            if predicted_train[j] == train_y[j]:\n",
    "                sum_epo += 1\n",
    "        \n",
    "        print('total_train:{}, accuracy:{}, sum:{}'.format(total_train, sum_epo / total_train, sum_epo))\n",
    "        running_loss = 0\n",
    "        sum_epo = 0\n",
    "\n",
    "        if (sum / total_train > 0.85) :\n",
    "            optimizer = torch.optim.Adam(cnn.parameters(), lr=lrr/8)\n",
    "        elif (sum / total_train > 0.95) :\n",
    "            optimizer = torch.optim.Adam(cnn.parameters(), lr=lrr/8/8)\n",
    "        print('--------------------------------------------------------------------------')\n",
    "    print('===========================================================================')\n"
   ]
  },
  {
   "cell_type": "code",
   "execution_count": null,
   "metadata": {},
   "outputs": [],
   "source": []
  },
  {
   "cell_type": "code",
   "execution_count": null,
   "metadata": {},
   "outputs": [],
   "source": []
  },
  {
   "cell_type": "code",
   "execution_count": null,
   "metadata": {},
   "outputs": [],
   "source": []
  },
  {
   "cell_type": "code",
   "execution_count": null,
   "metadata": {},
   "outputs": [],
   "source": []
  },
  {
   "cell_type": "code",
   "execution_count": null,
   "metadata": {},
   "outputs": [],
   "source": []
  },
  {
   "cell_type": "code",
   "execution_count": null,
   "metadata": {},
   "outputs": [],
   "source": []
  },
  {
   "cell_type": "code",
   "execution_count": null,
   "metadata": {},
   "outputs": [],
   "source": []
  },
  {
   "cell_type": "code",
   "execution_count": null,
   "metadata": {},
   "outputs": [],
   "source": []
  },
  {
   "cell_type": "code",
   "execution_count": null,
   "metadata": {},
   "outputs": [],
   "source": []
  },
  {
   "cell_type": "code",
   "execution_count": null,
   "metadata": {},
   "outputs": [],
   "source": []
  },
  {
   "cell_type": "code",
   "execution_count": null,
   "metadata": {},
   "outputs": [],
   "source": []
  },
  {
   "cell_type": "code",
   "execution_count": null,
   "metadata": {},
   "outputs": [],
   "source": []
  },
  {
   "cell_type": "code",
   "execution_count": null,
   "metadata": {},
   "outputs": [],
   "source": []
  },
  {
   "cell_type": "code",
   "execution_count": null,
   "metadata": {},
   "outputs": [],
   "source": []
  },
  {
   "cell_type": "code",
   "execution_count": null,
   "metadata": {},
   "outputs": [],
   "source": []
  },
  {
   "cell_type": "code",
   "execution_count": null,
   "metadata": {},
   "outputs": [],
   "source": []
  },
  {
   "cell_type": "code",
   "execution_count": null,
   "metadata": {},
   "outputs": [],
   "source": []
  },
  {
   "cell_type": "code",
   "execution_count": null,
   "metadata": {},
   "outputs": [],
   "source": []
  },
  {
   "cell_type": "code",
   "execution_count": null,
   "metadata": {},
   "outputs": [],
   "source": []
  },
  {
   "cell_type": "code",
   "execution_count": null,
   "metadata": {},
   "outputs": [],
   "source": []
  },
  {
   "cell_type": "code",
   "execution_count": null,
   "metadata": {},
   "outputs": [],
   "source": []
  },
  {
   "cell_type": "code",
   "execution_count": null,
   "metadata": {},
   "outputs": [],
   "source": []
  },
  {
   "cell_type": "code",
   "execution_count": null,
   "metadata": {},
   "outputs": [],
   "source": []
  },
  {
   "cell_type": "code",
   "execution_count": null,
   "metadata": {},
   "outputs": [],
   "source": []
  },
  {
   "cell_type": "code",
   "execution_count": null,
   "metadata": {},
   "outputs": [],
   "source": []
  },
  {
   "cell_type": "code",
   "execution_count": null,
   "metadata": {},
   "outputs": [],
   "source": []
  },
  {
   "cell_type": "code",
   "execution_count": null,
   "metadata": {},
   "outputs": [],
   "source": []
  },
  {
   "cell_type": "code",
   "execution_count": null,
   "metadata": {},
   "outputs": [],
   "source": []
  },
  {
   "cell_type": "code",
   "execution_count": null,
   "metadata": {},
   "outputs": [],
   "source": []
  },
  {
   "cell_type": "code",
   "execution_count": null,
   "metadata": {},
   "outputs": [],
   "source": []
  },
  {
   "cell_type": "code",
   "execution_count": null,
   "metadata": {},
   "outputs": [],
   "source": []
  },
  {
   "cell_type": "code",
   "execution_count": null,
   "metadata": {},
   "outputs": [],
   "source": []
  },
  {
   "cell_type": "code",
   "execution_count": 2,
   "metadata": {},
   "outputs": [
    {
     "name": "stdout",
     "output_type": "stream",
     "text": "123\n"
    }
   ],
   "source": []
  },
  {
   "cell_type": "code",
   "execution_count": null,
   "metadata": {},
   "outputs": [],
   "source": []
  }
 ]
}